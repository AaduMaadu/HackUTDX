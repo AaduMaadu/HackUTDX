{
 "cells": [
  {
   "cell_type": "code",
   "execution_count": null,
   "metadata": {},
   "outputs": [],
   "source": [
    "import pandas as pd\n",
    "leak_location_data = pd.read_csv('leak_locations_and_rate.csv')\n",
    "weather_data = pd.read_csv('weather_data.csv')\n",
    "sensor_data = pd.read_csv('sensor_readings.csv')"
   ]
  },
  {
   "cell_type": "code",
   "execution_count": null,
   "metadata": {},
   "outputs": [],
   "source": [
    "# SUCCESS, ABLE TO RETRIEVE ALL ROWS WITH FUGITIVE\n",
    "my_value = \"Fugitive\"\n",
    "results = leak_location_data.loc[leak_location_data[\"EmissionCategory\"] == my_value]\n",
    "print(results)"
   ]
  },
  {
   "cell_type": "code",
   "execution_count": 69,
   "metadata": {},
   "outputs": [
    {
     "name": "stdout",
     "output_type": "stream",
     "text": [
      "0      32972.643000\n",
      "1      58159.588500\n",
      "2     149540.515200\n",
      "3      65733.057900\n",
      "4      65945.286000\n",
      "          ...      \n",
      "75    176876.200450\n",
      "94     29764.748270\n",
      "95     58629.993100\n",
      "96     77012.389995\n",
      "97     48561.878138\n",
      "Length: 61, dtype: float64\n",
      "Gas leak detected! Leak rate of value: 0     36.636270\n",
      "1     64.621765\n",
      "2     55.385376\n",
      "3     24.345577\n",
      "4     36.636270\n",
      "        ...    \n",
      "75    65.485450\n",
      "94    33.108730\n",
      "95    65.216900\n",
      "96    85.664505\n",
      "97    54.017662\n",
      "Name: LeakRate, Length: 61, dtype: float64 over duration 0      900\n",
      "1      900\n",
      "2     2700\n",
      "3     2700\n",
      "4     1800\n",
      "      ... \n",
      "75    2701\n",
      "94     899\n",
      "95     899\n",
      "96     899\n",
      "97     899\n",
      "Name: Duration, Length: 61, dtype: int64\n"
     ]
    }
   ],
   "source": [
    "durations = results.loc[:,\"Duration\"]\n",
    "leakRates = results.loc[:, \"LeakRate\"]\n",
    "magnitudes = durations * leakRates\n",
    "\n",
    "print(magnitudes)\n",
    "#if (magnitudes > 100000) :\n",
    "if magnitudes.gt(100000).any() :\n",
    "    #print(\"Gas leak detected! Leak rate of value: \" + leakRates + \" over duration\" + durations)\n",
    "    print(f\"Gas leak detected! Leak rate of value: {leakRates} over duration {durations}\")\n",
    "else:\n",
    "    print(\"No gas leak detected\")"
   ]
  },
  {
   "cell_type": "code",
   "execution_count": null,
   "metadata": {},
   "outputs": [],
   "source": [
    "#get the temperature and pressure for each of the fugitive leaks\n",
    "temps = []\n",
    "pressures = []\n",
    "for index, row in results.iterrows():\n",
    "    "
   ]
  },
  {
   "cell_type": "code",
   "execution_count": 38,
   "metadata": {},
   "outputs": [
    {
     "name": "stdout",
     "output_type": "stream",
     "text": [
      "           timestamp  Barometric_Pressure   Humidity  Temperature  \\\n",
      "36569  4/18/23 10:09           824.025964  26.902713    15.071675   \n",
      "37740  4/18/23 10:28           823.723086  22.599017    15.656968   \n",
      "38334  4/18/23 10:38           823.524288  24.979615    15.679047   \n",
      "38335  4/18/23 10:38           823.647314  25.003276    15.723217   \n",
      "38336  4/18/23 10:38           823.656778  25.003275    15.628564   \n",
      "...              ...                  ...        ...          ...   \n",
      "80679  4/18/23 22:24           822.293743  23.297891    15.085868   \n",
      "80680  4/18/23 22:24           822.303232  23.296315    15.084293   \n",
      "80681  4/18/23 22:24           822.218031  23.386237    15.046432   \n",
      "80682  4/18/23 22:24           822.293737  23.397279    15.013298   \n",
      "80683  4/18/23 22:24           822.132843  23.373618    15.040121   \n",
      "\n",
      "       Wind_Direction  Wind_Speed  \n",
      "36569      357.893044    0.490467  \n",
      "37740      359.801335    0.337453  \n",
      "38334      225.532600    1.919900  \n",
      "38335      222.968342    2.405800  \n",
      "38336      213.256624    2.173981  \n",
      "...               ...         ...  \n",
      "80679      347.789455    5.027901  \n",
      "80680      350.072551    4.894322  \n",
      "80681      350.856305    5.278450  \n",
      "80682      354.263907    5.273148  \n",
      "80683      357.322278    5.220142  \n",
      "\n",
      "[40752 rows x 6 columns]\n"
     ]
    }
   ],
   "source": [
    "#get the temperatures where it is higher than 10 degrees\n",
    "high_temp = weather_data.loc[weather_data[\"Temperature\"] > 15]\n",
    "print(high_temp)"
   ]
  },
  {
   "cell_type": "code",
   "execution_count": 41,
   "metadata": {},
   "outputs": [],
   "source": []
  }
 ],
 "metadata": {
  "kernelspec": {
   "display_name": "Python 3",
   "language": "python",
   "name": "python3"
  },
  "language_info": {
   "codemirror_mode": {
    "name": "ipython",
    "version": 3
   },
   "file_extension": ".py",
   "mimetype": "text/x-python",
   "name": "python",
   "nbconvert_exporter": "python",
   "pygments_lexer": "ipython3",
   "version": "3.11.0"
  }
 },
 "nbformat": 4,
 "nbformat_minor": 2
}
