{
 "cells": [
  {
   "cell_type": "code",
   "execution_count": 1,
   "metadata": {},
   "outputs": [],
   "source": [
    "import pandas as pd\n",
    "leak_location_data = pd.read_csv('leak_locations_and_rate.csv')"
   ]
  },
  {
   "cell_type": "code",
   "execution_count": 2,
   "metadata": {},
   "outputs": [
    {
     "name": "stdout",
     "output_type": "stream",
     "text": [
      "    EventID  NumberSourcesLeaking LeakPointId   Latitude   Longitude  \\\n",
      "0        40                     2       4T-31  40.595830 -105.139824   \n",
      "1        40                     2       5S-26  40.595924 -105.139390   \n",
      "2        41                     2       4W-27  40.595936 -105.140270   \n",
      "3        41                     2       4S-43  40.595642 -105.140350   \n",
      "4        42                     2       4T-31  40.595830 -105.139824   \n",
      "..      ...                   ...         ...        ...         ...   \n",
      "75       39                     2       5S-26  40.595924 -105.139390   \n",
      "94       58                     1       4S-21  40.595665 -105.140270   \n",
      "95       59                     3       4T-11  40.595750 -105.139890   \n",
      "96       59                     3       5W-13  40.595615 -105.139420   \n",
      "97       59                     3       5S-32  40.595943 -105.139430   \n",
      "\n",
      "   EmissionCategory                    UTCStart                      UTCEnd  \\\n",
      "0          Fugitive  2023-04-18_00:00:35.000000  2023-04-18_00:15:35.000000   \n",
      "1          Fugitive  2023-04-18_00:00:35.000000  2023-04-18_00:15:35.000000   \n",
      "2          Fugitive  2023-04-18_00:15:35.000000  2023-04-18_01:00:35.000000   \n",
      "3          Fugitive  2023-04-18_00:15:35.000000  2023-04-18_01:00:35.000000   \n",
      "4          Fugitive  2023-04-18_00:15:35.000000  2023-04-18_00:45:35.000000   \n",
      "..              ...                         ...                         ...   \n",
      "75         Fugitive  2023-04-18_18:20:39.000000  2023-04-18_19:05:40.000000   \n",
      "94         Fugitive  2023-04-18_21:23:59.000000  2023-04-18_21:38:58.000000   \n",
      "95         Fugitive  2023-04-18_21:23:59.000000  2023-04-18_21:38:58.000000   \n",
      "96         Fugitive  2023-04-18_21:23:59.000000  2023-04-18_21:38:58.000000   \n",
      "97         Fugitive  2023-04-18_21:23:59.000000  2023-04-18_21:38:58.000000   \n",
      "\n",
      "    Duration   LeakRate                    BFT      tStart        tEnd  \n",
      "0        900  36.636270  ReferenceMeteredEvent  1681776035  1681776935  \n",
      "1        900  64.621765  ReferenceMeteredEvent  1681776035  1681776935  \n",
      "2       2700  55.385376  ReferenceMeteredEvent  1681776935  1681779635  \n",
      "3       2700  24.345577  ReferenceMeteredEvent  1681776935  1681779635  \n",
      "4       1800  36.636270  ReferenceMeteredEvent  1681776935  1681778735  \n",
      "..       ...        ...                    ...         ...         ...  \n",
      "75      2701  65.485450  ReferenceMeteredEvent  1681842039  1681844740  \n",
      "94       899  33.108730    CurrentMeteredEvent  1681853039  1681853938  \n",
      "95       899  65.216900  ReferenceMeteredEvent  1681853039  1681853938  \n",
      "96       899  85.664505  ReferenceMeteredEvent  1681853039  1681853938  \n",
      "97       899  54.017662  ReferenceMeteredEvent  1681853039  1681853938  \n",
      "\n",
      "[61 rows x 13 columns]\n"
     ]
    }
   ],
   "source": [
    "# SUCCESS, ABLE TO RETRIEVE ALL ROWS WITH FUGITIVE\n",
    "my_value = \"Fugitive\"\n",
    "results = leak_location_data.loc[leak_location_data[\"EmissionCategory\"] == my_value]\n",
    "print(results)"
   ]
  },
  {
   "cell_type": "code",
   "execution_count": 14,
   "metadata": {},
   "outputs": [
    {
     "data": {
      "text/plain": [
       "0      32972.643000\n",
       "1      58159.588500\n",
       "2     149540.515200\n",
       "3      65733.057900\n",
       "4      65945.286000\n",
       "          ...      \n",
       "75    176876.200450\n",
       "94     29764.748270\n",
       "95     58629.993100\n",
       "96     77012.389995\n",
       "97     48561.878138\n",
       "Length: 61, dtype: float64"
      ]
     },
     "execution_count": 14,
     "metadata": {},
     "output_type": "execute_result"
    }
   ],
   "source": [
    "durations = results.loc[:,\"Duration\"]\n",
    "leakRates = results.loc[:, \"LeakRate\"]\n",
    "magnitudes = durations * leakRates"
   ]
  }
 ],
 "metadata": {
  "kernelspec": {
   "display_name": "Python 3",
   "language": "python",
   "name": "python3"
  },
  "language_info": {
   "codemirror_mode": {
    "name": "ipython",
    "version": 3
   },
   "file_extension": ".py",
   "mimetype": "text/x-python",
   "name": "python",
   "nbconvert_exporter": "python",
   "pygments_lexer": "ipython3",
   "version": "3.10.7"
  }
 },
 "nbformat": 4,
 "nbformat_minor": 2
}
